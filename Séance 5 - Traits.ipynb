{
 "cells": [
  {
   "cell_type": "markdown",
   "metadata": {
    "slideshow": {
     "slide_type": "slide"
    }
   },
   "source": [
    "Introduction à Rust\n",
    "\n",
    "# Séance 5 – Traits\n",
    "\n",
    "[Pierre-Antoine Champin](http://champin.net/)\n",
    "\n",
    "Département Info Doua – [IUT Lyon 1](http://iut.univ-lyon1.fr/)\n"
   ]
  },
  {
   "cell_type": "markdown",
   "metadata": {
    "slideshow": {
     "slide_type": "slide"
    }
   },
   "source": [
    "## Bibliothèque standard"
   ]
  },
  {
   "cell_type": "markdown",
   "metadata": {
    "slideshow": {
     "slide_type": "subslide"
    }
   },
   "source": [
    "### Chemins d'accès\n",
    "\n",
    "À la séance précédente, on a vu comment utiliser un élément défini dans un module."
   ]
  },
  {
   "cell_type": "code",
   "execution_count": 2,
   "metadata": {
    "slideshow": {
     "slide_type": "-"
    }
   },
   "outputs": [
    {
     "data": {
      "text/plain": [
       "42"
      ]
     },
     "execution_count": 2,
     "metadata": {},
     "output_type": "execute_result"
    }
   ],
   "source": [
    "mod foo {\n",
    "    pub fn bar() -> i32 { 42 }\n",
    "}\n",
    "\n",
    "foo::bar()"
   ]
  },
  {
   "cell_type": "code",
   "execution_count": 3,
   "metadata": {
    "slideshow": {
     "slide_type": "fragment"
    }
   },
   "outputs": [
    {
     "data": {
      "text/plain": [
       "42"
      ]
     },
     "execution_count": 3,
     "metadata": {},
     "output_type": "execute_result"
    }
   ],
   "source": [
    "use foo::bar;\n",
    "bar()"
   ]
  },
  {
   "cell_type": "markdown",
   "metadata": {
    "slideshow": {
     "slide_type": "subslide"
    }
   },
   "source": [
    "### Chemin absolu\n",
    "\n",
    "```rust\n",
    "// dans le projet (crate) en cours\n",
    "use crate::foo::bar;\n",
    "\n",
    "// dans les bibliothèques standard\n",
    "use std::collections::HashMap;\n",
    "\n",
    "// dans un crate importé depuis Cargo.toml\n",
    "use regex::Regex;\n",
    "```"
   ]
  },
  {
   "cell_type": "markdown",
   "metadata": {
    "slideshow": {
     "slide_type": "subslide"
    }
   },
   "source": [
    "### Prélude\n",
    "\n",
    "Certains éléments de la bibliothèque standard sont automatiquement importés,\n",
    "grâce à un fichier standard nommé `prelude.rs`.\n",
    "\n",
    "Exemple :\n",
    "\n",
    "* `Vec` (`std::vec::Vec`)\n",
    "* `String` (`std::string::String`)\n",
    "* `Option` (`std::option::Option`)\n",
    "* `None` et `Some` (`std::option::Option::None`...)\n",
    "* ...\n"
   ]
  },
  {
   "cell_type": "markdown",
   "metadata": {
    "slideshow": {
     "slide_type": "slide"
    }
   },
   "source": [
    "## Traits 🦀"
   ]
  },
  {
   "cell_type": "markdown",
   "metadata": {
    "slideshow": {
     "slide_type": "subslide"
    }
   },
   "source": [
    "### Présentation\n",
    "\n",
    "Les traits sont similaires aux interfaces en Java:\n",
    "\n",
    "* ils définissent un ensemble de méthodes abstraites,\n",
    "* ils peuvent être implémentés par plusieurs types indépendants."
   ]
  },
  {
   "cell_type": "code",
   "execution_count": 4,
   "metadata": {},
   "outputs": [],
   "source": [
    "pub trait Animal {\n",
    "    fn couleur(&self) -> &str;\n",
    "    fn cri(&self) -> &str;\n",
    "}"
   ]
  },
  {
   "cell_type": "markdown",
   "metadata": {},
   "source": [
    "NB: les méthodes d'un trait sont toutes considérées comme publiques."
   ]
  },
  {
   "cell_type": "code",
   "execution_count": 5,
   "metadata": {
    "slideshow": {
     "slide_type": "subslide"
    }
   },
   "outputs": [],
   "source": [
    "pub struct Corbeau {}\n",
    "\n",
    "impl Animal for Corbeau {\n",
    "    fn couleur(&self) -> &str {\n",
    "        \"noir\"\n",
    "    }\n",
    "    fn cri(&self) -> &str {\n",
    "        \"croa\"\n",
    "    }\n",
    "}"
   ]
  },
  {
   "cell_type": "code",
   "execution_count": 6,
   "metadata": {
    "slideshow": {
     "slide_type": "-"
    }
   },
   "outputs": [],
   "source": [
    "pub struct Chien { nom: String, couleur: String }\n",
    "\n",
    "impl Animal for Chien {\n",
    "    fn couleur(&self) -> &str {\n",
    "        &self.couleur\n",
    "    }\n",
    "    fn cri(&self) -> &str {\n",
    "        \"ouaf\"\n",
    "    }\n",
    "}"
   ]
  },
  {
   "cell_type": "markdown",
   "metadata": {
    "slideshow": {
     "slide_type": "subslide"
    }
   },
   "source": [
    "NB: contrairement aux interfaces Java, les traits Rust peuvent contenir autre chose que des fonctions:\n",
    "\n",
    "* constantes\n",
    "* types"
   ]
  },
  {
   "cell_type": "markdown",
   "metadata": {
    "slideshow": {
     "slide_type": "subslide"
    }
   },
   "source": [
    "### Héritage de traits\n",
    "\n",
    "Certains traits peuvent dépendre d'un ou plusieurs super-traits.\n",
    "\n",
    "Cela signifie que tout type implémentant ce trait doit également implémenter ses super-traits."
   ]
  },
  {
   "cell_type": "code",
   "execution_count": 7,
   "metadata": {},
   "outputs": [],
   "source": [
    "pub trait AnimalDomestique: Animal {\n",
    "    fn nom(&self) -> &str;\n",
    "}"
   ]
  },
  {
   "cell_type": "markdown",
   "metadata": {},
   "source": [
    "NB: cette forme d'héritage ne permet **pas** la surcharge de méthode, uniquement l'ajout de nouvelles méthodes."
   ]
  },
  {
   "cell_type": "code",
   "execution_count": 8,
   "metadata": {
    "slideshow": {
     "slide_type": "subslide"
    }
   },
   "outputs": [],
   "source": [
    "impl AnimalDomestique for Chien {\n",
    "    fn nom(&self) -> &str {\n",
    "        &self.nom\n",
    "    }\n",
    "}"
   ]
  },
  {
   "cell_type": "markdown",
   "metadata": {
    "slideshow": {
     "slide_type": "subslide"
    }
   },
   "source": [
    "### Implémentation par défaut\n",
    "\n",
    "Certaines méthodes d'un trait peuvent être munies d'une implémentation par défaut,\n",
    "\n",
    "qui ne dépend que des méthodes du trait (et de ses super-traits éventuels).\n"
   ]
  },
  {
   "cell_type": "code",
   "execution_count": 9,
   "metadata": {},
   "outputs": [],
   "source": [
    "pub trait Rectangulaire {\n",
    "    fn largeur(&self) -> f64;\n",
    "    fn longueur(&self) -> f64;\n",
    "    fn surface(&self) -> f64 {\n",
    "        self.largeur()*self.longueur()\n",
    "    }\n",
    "    fn perimetre(&self) -> f64 {\n",
    "        2.0*(self.largeur()+self.longueur())\n",
    "    }\n",
    "}"
   ]
  },
  {
   "cell_type": "markdown",
   "metadata": {
    "slideshow": {
     "slide_type": "subslide"
    }
   },
   "source": [
    "### Implémentation sur des types existants 🦀"
   ]
  },
  {
   "cell_type": "code",
   "execution_count": 10,
   "metadata": {},
   "outputs": [
    {
     "data": {
      "text/plain": [
       "5"
      ]
     },
     "execution_count": 10,
     "metadata": {},
     "output_type": "execute_result"
    }
   ],
   "source": [
    "pub trait Chiffres {\n",
    "    fn nb_chiffres(&self) -> u32;\n",
    "}\n",
    "\n",
    "impl Chiffres for i32 {\n",
    "    fn nb_chiffres(&self) -> u32 {\n",
    "        let mut x = *self;\n",
    "        let mut n = 0;\n",
    "        while x != 0 {\n",
    "            n += 1;\n",
    "            x /= 10;\n",
    "        }\n",
    "        n\n",
    "    }\n",
    "}\n",
    "\n",
    "12345.nb_chiffres()"
   ]
  },
  {
   "cell_type": "markdown",
   "metadata": {
    "slideshow": {
     "slide_type": "slide"
    }
   },
   "source": [
    "## Traits standards"
   ]
  },
  {
   "cell_type": "markdown",
   "metadata": {
    "slideshow": {
     "slide_type": "subslide"
    }
   },
   "source": [
    "### [`std::clone::Clone`](https://doc.rust-lang.org/std/clone/trait.Clone.html)\n",
    "\n",
    "Définit une méthode `clone(&self)` permettant de dupliquer une valeur.\n",
    "\n",
    "NB: certains types n'implémentent pas `Clone`, car une telle duplication n'a pas toujours de sens."
   ]
  },
  {
   "cell_type": "code",
   "execution_count": 11,
   "metadata": {},
   "outputs": [
    {
     "name": "stdout",
     "output_type": "stream",
     "text": [
      "[1, 2, 3] [1, 2, 3, 4]\n"
     ]
    }
   ],
   "source": [
    "let v1 = vec![1, 2, 3];\n",
    "let mut v2 = v1.clone();\n",
    "v2.push(4);\n",
    "println!(\"{:?} {:?}\", v1, v2);"
   ]
  },
  {
   "cell_type": "markdown",
   "metadata": {
    "slideshow": {
     "slide_type": "subslide"
    }
   },
   "source": [
    "### [`std::default::Default`](https://doc.rust-lang.org/std/default/trait.Default.html)\n",
    "    \n",
    "Définit une fonction associée `default()`, construisant une valeur de ce type, considérée comme une bonne valeur par défaut."
   ]
  },
  {
   "cell_type": "code",
   "execution_count": 12,
   "metadata": {},
   "outputs": [
    {
     "data": {
      "text/plain": [
       "0"
      ]
     },
     "execution_count": 12,
     "metadata": {},
     "output_type": "execute_result"
    }
   ],
   "source": [
    "i32::default()"
   ]
  },
  {
   "cell_type": "code",
   "execution_count": 13,
   "metadata": {},
   "outputs": [
    {
     "data": {
      "text/plain": [
       "\"\""
      ]
     },
     "execution_count": 13,
     "metadata": {},
     "output_type": "execute_result"
    }
   ],
   "source": [
    "String::default()"
   ]
  },
  {
   "cell_type": "code",
   "execution_count": 14,
   "metadata": {},
   "outputs": [
    {
     "data": {
      "text/plain": [
       "None"
      ]
     },
     "execution_count": 14,
     "metadata": {},
     "output_type": "execute_result"
    }
   ],
   "source": [
    "Option::<i32>::default()"
   ]
  },
  {
   "cell_type": "code",
   "execution_count": 15,
   "metadata": {},
   "outputs": [
    {
     "data": {
      "text/plain": [
       "[]"
      ]
     },
     "execution_count": 15,
     "metadata": {},
     "output_type": "execute_result"
    }
   ],
   "source": [
    "Vec::<i32>::default()"
   ]
  },
  {
   "cell_type": "markdown",
   "metadata": {
    "slideshow": {
     "slide_type": "subslide"
    }
   },
   "source": [
    "### [`std::cmp::PartialEq`](https://doc.rust-lang.org/std/cmp/trait.PartialEq.html)\n",
    "\n",
    "Définit une méthode `eq(&self, other)` indiquant si `self` et `other` sont égaux. Cette relation *doit* être symétrique et transitive.\n",
    "\n",
    "**L'opérateur `==` est un raccourci pour l'utilisation de la méthode `PartialEq::eq`.**\n",
    "\n",
    "Il existe aussi le trait [`PartialOrd`](https://doc.rust-lang.org/std/cmp/trait.PartialOrd.html) pour les opérateurs `<`, `>`, `<=`, `>=`."
   ]
  },
  {
   "cell_type": "markdown",
   "metadata": {
    "slideshow": {
     "slide_type": "subslide"
    }
   },
   "source": [
    "### [`std::ops::Add`](https://doc.rust-lang.org/std/ops/trait.Add.html)\n",
    "\n",
    "Définit une méthode `add(self, other)` retournant la somme de `self` et `other`.\n",
    "\n",
    "**L'opérateur `+` est un raccourci pour l'utilisation de la méthode `Add::add`.**\n",
    "\n",
    "Il existe aussi les traits [`Sub`](https://doc.rust-lang.org/std/ops/trait.Sub.html) pour l'opérateur `-`,\n",
    "[`Mul`](https://doc.rust-lang.org/std/ops/trait.Mul.html) pour `*`,\n",
    "[`Div`](https://doc.rust-lang.org/std/ops/trait.Div.html) pour `/`."
   ]
  },
  {
   "cell_type": "markdown",
   "metadata": {
    "slideshow": {
     "slide_type": "subslide"
    }
   },
   "source": [
    "### [`std::fmt::Debug`](https://doc.rust-lang.org/std/fmt/trait.Debug.html)\n",
    "\n",
    "Définit une méthode `fmt(&self, ...)` qui définit comment afficher `self` pour le développeur.\n",
    "\n",
    "**Le format `{:?}` de `prinln!` utilise en interne la méthode `Debug::fmt`.**\n",
    "\n",
    "Il existe aussi le trait [`Display`](https://doc.rust-lang.org/std/fmt/trait.Display.html) pour le format `{}`."
   ]
  },
  {
   "cell_type": "markdown",
   "metadata": {
    "slideshow": {
     "slide_type": "subslide"
    }
   },
   "source": [
    "### [`std::iter::Iterator`](https://doc.rust-lang.org/std/iter/trait.Iterator.html)\n",
    "\n",
    "Définit une méthode `next(&mut self)` qui retourne `Some(v)` (la prochaine valeur à itérer) ou `None`.\n",
    "\n",
    "**La boucle `for` utilise en interne la méthode `Iterator::next`.**\n",
    "\n"
   ]
  },
  {
   "cell_type": "markdown",
   "metadata": {
    "slideshow": {
     "slide_type": "fragment"
    }
   },
   "source": [
    "NB: `Iterator` fournit également une grande quantité de méthodes munies d'une implémentation par défaut."
   ]
  },
  {
   "cell_type": "code",
   "execution_count": 16,
   "metadata": {},
   "outputs": [
    {
     "data": {
      "text/plain": [
       "Some(4)"
      ]
     },
     "execution_count": 16,
     "metadata": {},
     "output_type": "execute_result"
    }
   ],
   "source": [
    "let v = vec![2, 4, 1, 3];\n",
    "v.iter().max()"
   ]
  },
  {
   "cell_type": "code",
   "execution_count": 17,
   "metadata": {},
   "outputs": [
    {
     "data": {
      "text/plain": [
       "10"
      ]
     },
     "execution_count": 17,
     "metadata": {},
     "output_type": "execute_result"
    }
   ],
   "source": [
    "v.iter().sum::<i32>()"
   ]
  },
  {
   "cell_type": "markdown",
   "metadata": {
    "slideshow": {
     "slide_type": "subslide"
    }
   },
   "source": [
    "### [`std::marker::Copy`](https://doc.rust-lang.org/std/marker/trait.Copy.html)\n",
    "\n",
    "Un trait *marqueur* ne définit aucune méthode, mais porte une *sémantique* particulière pour le compilateur.\n",
    "\n",
    "Un type implémentant `Copy` indique au compilateur que\n",
    "\n",
    "* les valeurs de ce type peuvent être dupliquée sans risque par une simple copie mémoire, et donc\n",
    "* que le compilateur peut *copier* ces valeurs lors qu'une affectation. "
   ]
  },
  {
   "cell_type": "markdown",
   "metadata": {
    "slideshow": {
     "slide_type": "subslide"
    }
   },
   "source": [
    "### Dérivation\n",
    "\n",
    "Certains traits peuvent être implémentés automatiquement pour un type donné, grâce à la directive `derive`."
   ]
  },
  {
   "cell_type": "code",
   "execution_count": 18,
   "metadata": {},
   "outputs": [
    {
     "name": "stdout",
     "output_type": "stream",
     "text": [
      "Point { x: 1.0, y: 2.0 } Point { x: 1.0, y: 2.0 }\n"
     ]
    }
   ],
   "source": [
    "#[derive(Clone, Copy, Debug)]\n",
    "pub struct Point {\n",
    "    x: f64,\n",
    "    y: f64,\n",
    "}\n",
    "\n",
    "let p1 = Point { x: 1.0, y: 2.0 };\n",
    "let p2 = p1;\n",
    "println!(\"{:?} {:?}\", p1, p2);"
   ]
  },
  {
   "cell_type": "markdown",
   "metadata": {},
   "source": [
    "⚠ Ceci n'est possible que si les champs du type implémentent eux même les traits en question."
   ]
  },
  {
   "cell_type": "markdown",
   "metadata": {
    "slideshow": {
     "slide_type": "slide"
    }
   },
   "source": [
    "## Traits et généricité"
   ]
  },
  {
   "cell_type": "markdown",
   "metadata": {
    "slideshow": {
     "slide_type": "subslide"
    }
   },
   "source": [
    "### Fonction polymorphique"
   ]
  },
  {
   "cell_type": "code",
   "execution_count": 19,
   "metadata": {},
   "outputs": [],
   "source": [
    "/// Retourne l'indice de la plus petite valeur de a\n",
    "fn imin<T>(a: &[T]) -> usize \n",
    "where\n",
    "    T: PartialOrd,\n",
    "{\n",
    "    let mut im = 0;\n",
    "    for i in 1..a.len() {\n",
    "        if a[i] < a[im] {\n",
    "            im = i;\n",
    "        }\n",
    "    }\n",
    "    im\n",
    "}"
   ]
  },
  {
   "cell_type": "markdown",
   "metadata": {},
   "source": [
    "La clause `where` contient des *contraintes* sur le(s) trait(s) que doit implémenter le type `T`.\n",
    "\n",
    "En contrepartie, elles autorisent à utiliser les méthodes de ce trait dans le corps de la fonction\n",
    "(ici: `a[i] < a[im]` grâce au trait `PartialOrd`)."
   ]
  },
  {
   "cell_type": "markdown",
   "metadata": {
    "slideshow": {
     "slide_type": "subslide"
    }
   },
   "source": [
    "### Monomorphisation"
   ]
  },
  {
   "cell_type": "code",
   "execution_count": 20,
   "metadata": {},
   "outputs": [
    {
     "data": {
      "text/plain": [
       "1"
      ]
     },
     "execution_count": 20,
     "metadata": {},
     "output_type": "execute_result"
    }
   ],
   "source": [
    "imin(&[2, -1, 3])"
   ]
  },
  {
   "cell_type": "code",
   "execution_count": 21,
   "metadata": {},
   "outputs": [
    {
     "data": {
      "text/plain": [
       "2"
      ]
     },
     "execution_count": 21,
     "metadata": {},
     "output_type": "execute_result"
    }
   ],
   "source": [
    "imin(&[\"toto\", \"titi\", \"tata\"])"
   ]
  },
  {
   "cell_type": "markdown",
   "metadata": {},
   "source": [
    "Le compilateur produit une version de la fonction par type concret avec lequel elle est appelée.\n",
    "\n",
    "→ par de surcoût à l'exécution lié à l'utilisation des traits"
   ]
  },
  {
   "cell_type": "markdown",
   "metadata": {
    "slideshow": {
     "slide_type": "subslide"
    }
   },
   "source": [
    "### Fonctions homonymes (*alla* Java)\n",
    "\n",
    "En Java, plusieurs fonctions/méthodes avec le même nom peuvent co-exister :\n",
    "```java\n",
    "void toto(int i) { System.out.println(\"Vous m'avez donné l'entier \" + i); }\n",
    "void toto(String s) { System.out.println(\"Vous m'avez donné la chaîne \" + s); }\n",
    "```\n",
    "\n",
    "En Rust, on peut utiliser les traits pour obtenir le même résultat."
   ]
  },
  {
   "cell_type": "code",
   "execution_count": 22,
   "metadata": {
    "slideshow": {
     "slide_type": "fragment"
    }
   },
   "outputs": [],
   "source": [
    "pub trait Description {\n",
    "    fn description(&self) -> String; \n",
    "}\n",
    "\n",
    "fn toto<D>(d: D)\n",
    "where\n",
    "    D: Description\n",
    "{\n",
    "    println!(\"Vous m'avez donné {}\", d.description());\n",
    "}"
   ]
  },
  {
   "cell_type": "code",
   "execution_count": 23,
   "metadata": {
    "slideshow": {
     "slide_type": "subslide"
    }
   },
   "outputs": [],
   "source": [
    "impl Description for i32 {\n",
    "    fn description(&self) -> String {\n",
    "        format!(\"l'entier {}\", self)\n",
    "    }\n",
    "}\n",
    "\n",
    "impl Description for &'_ str {\n",
    "    fn description(&self) -> String {\n",
    "        format!(\"la chaîne {}\", self)\n",
    "    }\n",
    "}"
   ]
  },
  {
   "cell_type": "code",
   "execution_count": 24,
   "metadata": {},
   "outputs": [
    {
     "name": "stdout",
     "output_type": "stream",
     "text": [
      "Vous m'avez donné l'entier 42\n"
     ]
    }
   ],
   "source": [
    "toto(42);"
   ]
  },
  {
   "cell_type": "markdown",
   "metadata": {
    "slideshow": {
     "slide_type": "subslide"
    }
   },
   "source": [
    "Avantage : quelqu'un d'autre peut implémenter le trait `Description` pour son propre type."
   ]
  },
  {
   "cell_type": "code",
   "execution_count": 25,
   "metadata": {},
   "outputs": [],
   "source": [
    "impl Description for Point {\n",
    "    fn description(&self) -> String {\n",
    "        format!(\"le point ({}, {})\", self.x, self.y)\n",
    "    }\n",
    "}"
   ]
  },
  {
   "cell_type": "code",
   "execution_count": 26,
   "metadata": {},
   "outputs": [
    {
     "name": "stdout",
     "output_type": "stream",
     "text": [
      "Vous m'avez donné le point (1, 2.5)\n"
     ]
    }
   ],
   "source": [
    "toto(Point{ x: 1.0, y: 2.5 });"
   ]
  },
  {
   "cell_type": "markdown",
   "metadata": {
    "slideshow": {
     "slide_type": "slide"
    }
   },
   "source": [
    "# Quoi d'autre ?"
   ]
  },
  {
   "cell_type": "markdown",
   "metadata": {
    "slideshow": {
     "slide_type": "subslide"
    }
   },
   "source": [
    "### Itérateurs"
   ]
  },
  {
   "cell_type": "code",
   "execution_count": 27,
   "metadata": {},
   "outputs": [
    {
     "data": {
      "text/plain": [
       "[2, 1, 3, 2, 1, 3]"
      ]
     },
     "execution_count": 27,
     "metadata": {},
     "output_type": "execute_result"
    }
   ],
   "source": [
    "let a = [1, 2, 3];\n",
    "{\n",
    "    let v: Vec<_> = a\n",
    "            .iter()\n",
    "            .rev()\n",
    "            .cycle()\n",
    "            .skip(1)\n",
    "            .take(6)\n",
    "            .collect();\n",
    "    v\n",
    "}\n"
   ]
  },
  {
   "cell_type": "markdown",
   "metadata": {
    "slideshow": {
     "slide_type": "subslide"
    }
   },
   "source": [
    "### Fermetures"
   ]
  },
  {
   "cell_type": "code",
   "execution_count": 28,
   "metadata": {},
   "outputs": [
    {
     "data": {
      "text/plain": [
       "[2, 4, 2, 6, 2, 8, 2, 10]"
      ]
     },
     "execution_count": 28,
     "metadata": {},
     "output_type": "execute_result"
    }
   ],
   "source": [
    "let a = [1, 2, 1, 3, 1, 4, 1, 5];\n",
    "{\n",
    "    let v: Vec<_> = a\n",
    "        .iter()\n",
    "        .map(|x| 2*x)\n",
    "        //.take_while(|x| *x<7)\n",
    "        //.filter(|x| *x>2)\n",
    "        .collect();\n",
    "    v\n",
    "}"
   ]
  },
  {
   "cell_type": "markdown",
   "metadata": {
    "slideshow": {
     "slide_type": "subslide"
    }
   },
   "source": [
    "### Threads"
   ]
  },
  {
   "cell_type": "code",
   "execution_count": 29,
   "metadata": {},
   "outputs": [
    {
     "name": "stdout",
     "output_type": "stream",
     "text": [
      "A 2\n",
      "A 4\n",
      "B 2\n",
      "A 6\n",
      "B 4\n",
      "B 6\n"
     ]
    },
    {
     "data": {
      "text/plain": [
       "()"
      ]
     },
     "execution_count": 29,
     "metadata": {},
     "output_type": "execute_result"
    }
   ],
   "source": [
    "use std::thread;\n",
    "use std::time::Duration;\n",
    "\n",
    "static values: [i32; 3] = [2, 4, 6];\n",
    "\n",
    "thread::spawn(|| {\n",
    "    for v in &values {\n",
    "        thread::sleep(Duration::from_millis(1000));\n",
    "        println!(\"A {}\", v);\n",
    "    }\n",
    "});\n",
    "\n",
    "thread::sleep(Duration::from_millis(1500));\n",
    "for v in &values {\n",
    "    thread::sleep(Duration::from_millis(1000));\n",
    "    println!(\"B {}\", v);\n",
    "}\n"
   ]
  }
 ],
 "metadata": {
  "kernelspec": {
   "display_name": "Rust",
   "language": "rust",
   "name": "rust"
  },
  "language_info": {
   "codemirror_mode": "rust",
   "file_extension": ".rs",
   "mimetype": "text/rust",
   "name": "Rust",
   "pygment_lexer": "rust",
   "version": ""
  }
 },
 "nbformat": 4,
 "nbformat_minor": 4
}
