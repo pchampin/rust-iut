{
 "cells": [
  {
   "cell_type": "markdown",
   "metadata": {
    "slideshow": {
     "slide_type": "slide"
    }
   },
   "source": [
    "Introduction à Rust\n",
    "\n",
    "# Séance 4 – Enum, méthodes et modules\n",
    "\n",
    "[Pierre-Antoine Champin](http://champin.net/)\n",
    "\n",
    "Département Info Doua – [IUT Lyon 1](http://iut.univ-lyon1.fr/)\n"
   ]
  },
  {
   "cell_type": "markdown",
   "metadata": {
    "slideshow": {
     "slide_type": "slide"
    }
   },
   "source": [
    "## Enum 🦀"
   ]
  },
  {
   "cell_type": "code",
   "execution_count": 2,
   "metadata": {
    "slideshow": {
     "slide_type": "subslide"
    }
   },
   "outputs": [],
   "source": [
    "enum Mousquetaire {\n",
    "    Athos,\n",
    "    Porthos,\n",
    "    Aramis,\n",
    "}\n",
    "\n",
    "let m1 = Mousquetaire::Athos;"
   ]
  },
  {
   "cell_type": "code",
   "execution_count": 3,
   "metadata": {
    "slideshow": {
     "slide_type": "fragment"
    }
   },
   "outputs": [],
   "source": [
    "use Mousquetaire::*;\n",
    "let m2 = Porthos;"
   ]
  },
  {
   "cell_type": "code",
   "execution_count": 4,
   "metadata": {
    "slideshow": {
     "slide_type": "subslide"
    }
   },
   "outputs": [],
   "source": [
    "struct Point { x: f64, y: f64 }\n",
    "\n",
    "enum Figure {\n",
    "    Plan,\n",
    "    Segment(Point, Point),\n",
    "    Cercle { centre: Point, rayon: f64 },\n",
    "}"
   ]
  },
  {
   "cell_type": "code",
   "execution_count": 5,
   "metadata": {
    "slideshow": {
     "slide_type": "subslide"
    }
   },
   "outputs": [],
   "source": [
    "use Figure::*;\n",
    "\n",
    "\n",
    "let p1 = Point { x: 1.0, y: 2.0 };\n",
    "\n",
    "let f1 = Segment(p1, Point { x: 1.0, y: 3.0 });\n",
    "\n",
    "\n",
    "let centre = Point { x: 0.0, y: 0.0 };\n",
    "\n",
    "let f2 = Cercle { centre, rayon: 2.5 };"
   ]
  },
  {
   "cell_type": "markdown",
   "metadata": {
    "slideshow": {
     "slide_type": "subslide"
    }
   },
   "source": [
    "### Enums et `match` déstructurant"
   ]
  },
  {
   "cell_type": "code",
   "execution_count": 6,
   "metadata": {
    "slideshow": {
     "slide_type": "-"
    }
   },
   "outputs": [
    {
     "name": "stdout",
     "output_type": "stream",
     "text": [
      "un segment entre (1,2) et (1,3)\n",
      "un cercle de centre (0,0) et de rayon 2.5\n"
     ]
    }
   ],
   "source": [
    "fn display_figure(f: &Figure) {\n",
    "    match f {\n",
    "        Plan => {\n",
    "            println!(\"le plan\")\n",
    "        }\n",
    "        Segment(p1, p2) => {\n",
    "            println!(\"un segment entre ({},{}) et ({},{})\",\n",
    "                     p1.x, p1.y, p2.x, p2.y)\n",
    "        }\n",
    "        Cercle { rayon, centre } => {\n",
    "            println!(\"un cercle de centre ({},{}) et de rayon {}\",\n",
    "                     centre.x, centre.y, rayon);\n",
    "        }\n",
    "    }\n",
    "}\n",
    "\n",
    "display_figure(&f1);\n",
    "display_figure(&f2);"
   ]
  },
  {
   "cell_type": "code",
   "execution_count": 7,
   "metadata": {
    "slideshow": {
     "slide_type": "skip"
    }
   },
   "outputs": [
    {
     "name": "stdout",
     "output_type": "stream",
     "text": [
      "un segment entre (1,2) et (1,3)\n",
      "un cercle de centre (0,0) et de rayon 2.5\n"
     ]
    }
   ],
   "source": [
    "fn display_figure(f: &Figure) {\n",
    "    match f {\n",
    "        Plan => {\n",
    "            println!(\"le plan\")\n",
    "        }\n",
    "        Segment(p1, p2) => {\n",
    "            println!(\"un segment entre ({},{}) et ({},{})\",\n",
    "                     p1.x, p1.y, p2.x, p2.y)\n",
    "        }\n",
    "        Cercle { rayon: r, centre: c } => {\n",
    "            println!(\"un cercle de centre ({},{}) et de rayon {}\",\n",
    "                     c.x, c.y, r);\n",
    "        }\n",
    "    }\n",
    "}\n",
    "\n",
    "display_figure(&f1);\n",
    "display_figure(&f2);"
   ]
  },
  {
   "cell_type": "markdown",
   "metadata": {
    "slideshow": {
     "slide_type": "subslide"
    }
   },
   "source": [
    "### `match` déstructurant récursif"
   ]
  },
  {
   "cell_type": "code",
   "execution_count": 8,
   "metadata": {
    "slideshow": {
     "slide_type": "-"
    }
   },
   "outputs": [
    {
     "name": "stdout",
     "output_type": "stream",
     "text": [
      "un segment entre (1,2) et (1,3)\n",
      "un cercle de centre (0,0) et de rayon 2.5\n"
     ]
    }
   ],
   "source": [
    "fn display_figure(f: &Figure) {\n",
    "    match f {\n",
    "        Plan => {\n",
    "            println!(\"le plan\")\n",
    "        }\n",
    "        Segment(Point{x, y}, Point{x: x2, y: y2}) => {\n",
    "            println!(\"un segment entre ({},{}) et ({},{})\",\n",
    "                     x, y, x2, y2)\n",
    "        }\n",
    "        Cercle { rayon, centre: Point{x, y} } => {\n",
    "            println!(\"un cercle de centre ({},{}) et de rayon {}\",\n",
    "                     x, y, rayon);\n",
    "        }\n",
    "    }\n",
    "}\n",
    "\n",
    "display_figure(&f1);\n",
    "display_figure(&f2);"
   ]
  },
  {
   "cell_type": "markdown",
   "metadata": {
    "slideshow": {
     "slide_type": "subslide"
    }
   },
   "source": [
    "### `Option<T>` et `Result<T, E>`...\n",
    "\n",
    "... sont également des enums (génériques)."
   ]
  },
  {
   "cell_type": "markdown",
   "metadata": {},
   "source": [
    "```rust\n",
    "enum Option<T> {\n",
    "    None,\n",
    "    Some(T),\n",
    "}\n",
    "\n",
    "enum Result<T, E> {\n",
    "    Ok(T),\n",
    "    Err(E),\n",
    "}\n",
    "```"
   ]
  },
  {
   "cell_type": "markdown",
   "metadata": {
    "slideshow": {
     "slide_type": "subslide"
    }
   },
   "source": [
    "#### `match` déstructurant et `Option<T>`"
   ]
  },
  {
   "cell_type": "code",
   "execution_count": 9,
   "metadata": {},
   "outputs": [],
   "source": [
    "pub fn message(o: Option<u64>) -> &'static str {\n",
    "    match o {\n",
    "        None => \"pas de valeur\",\n",
    "        Some(0) => \"zero\",\n",
    "        Some(1..=10) => \"entre un et dix\",\n",
    "        Some(_) => \"plus grand que dix\",\n",
    "    }\n",
    "}"
   ]
  },
  {
   "cell_type": "markdown",
   "metadata": {
    "slideshow": {
     "slide_type": "slide"
    }
   },
   "source": [
    "## Bloc `impl` et méthodes"
   ]
  },
  {
   "cell_type": "code",
   "execution_count": 10,
   "metadata": {
    "slideshow": {
     "slide_type": "skip"
    }
   },
   "outputs": [],
   "source": [
    "fn gcd(a: u32, b: u32) -> u32 {\n",
    "    fn gcd_(a: u32, b: u32) -> u32 {\n",
    "        if b==0 {\n",
    "            a\n",
    "        } else {\n",
    "            gcd_(b, a%b)\n",
    "        }\n",
    "    }\n",
    "    if a>=b { gcd_(a, b) } else { gcd_(b, a)}\n",
    "}"
   ]
  },
  {
   "cell_type": "code",
   "execution_count": 11,
   "metadata": {
    "slideshow": {
     "slide_type": "subslide"
    }
   },
   "outputs": [],
   "source": [
    "struct Fraction { num: u32, den: u32 }\n",
    "\n",
    "impl Fraction {\n",
    "    fn eval(&self) -> f64 {\n",
    "        (self.num as f64)/(self.den as f64)\n",
    "    }\n",
    "    \n",
    "    fn reduce(&mut self) {\n",
    "        let gcd = gcd(self.num, self.den);\n",
    "        if gcd > 1 {\n",
    "            self.num /= gcd;\n",
    "            self.den /= gcd;\n",
    "        }\n",
    "    }\n",
    "}"
   ]
  },
  {
   "cell_type": "code",
   "execution_count": 12,
   "metadata": {
    "slideshow": {
     "slide_type": "fragment"
    }
   },
   "outputs": [
    {
     "name": "stdout",
     "output_type": "stream",
     "text": [
      "1/2 ≃ 0.5\n"
     ]
    }
   ],
   "source": [
    "let mut f = Fraction { num: 2, den: 4 };\n",
    "\n",
    "f.reduce();\n",
    "println!(\"{}/{} ≃ {}\", f.num, f.den, f.eval());"
   ]
  },
  {
   "cell_type": "code",
   "execution_count": 13,
   "metadata": {
    "slideshow": {
     "slide_type": "subslide"
    }
   },
   "outputs": [],
   "source": [
    "impl Fraction {\n",
    "    fn add(&self, other: &Fraction) -> Fraction {\n",
    "        let mut r = Fraction {\n",
    "            num: self.num*other.den + other.num*self.den,\n",
    "            den: self.den*other.den,\n",
    "        };\n",
    "        r.reduce();\n",
    "        r\n",
    "    }\n",
    "}"
   ]
  },
  {
   "cell_type": "code",
   "execution_count": 14,
   "metadata": {},
   "outputs": [
    {
     "name": "stdout",
     "output_type": "stream",
     "text": [
      "2/4 + 1/3 = 5/6\n"
     ]
    }
   ],
   "source": [
    "let f1 = Fraction { num: 2, den: 4 };\n",
    "let f2 = Fraction { num: 1, den: 3 };\n",
    "let f3 = f1.add(&f2);\n",
    "println!(\"{}/{} + {}/{} = {}/{}\", f1.num, f1.den, f2.num, f2.den, f3.num, f3.den);\n"
   ]
  },
  {
   "cell_type": "code",
   "execution_count": 15,
   "metadata": {
    "slideshow": {
     "slide_type": "subslide"
    }
   },
   "outputs": [],
   "source": [
    "impl Fraction {\n",
    "    fn new(num: u32, den: u32) -> Fraction {\n",
    "        if den == 0 {\n",
    "            panic!(\"Denominator cannot be zero\");\n",
    "        }\n",
    "        Fraction { num, den }\n",
    "    }\n",
    "}\n",
    "\n",
    "let f = Fraction::new(2, 4);"
   ]
  },
  {
   "cell_type": "markdown",
   "metadata": {
    "slideshow": {
     "slide_type": "slide"
    }
   },
   "source": [
    "## Modules et visibilité"
   ]
  },
  {
   "cell_type": "markdown",
   "metadata": {
    "slideshow": {
     "slide_type": "subslide"
    }
   },
   "source": [
    "### Structure hiérarchique d'un programme"
   ]
  },
  {
   "cell_type": "code",
   "execution_count": 16,
   "metadata": {},
   "outputs": [],
   "source": [
    "fn main() {\n",
    "    /*...*/\n",
    "}\n",
    "\n",
    "mod toto {\n",
    "    fn f1() { /*...*/ }\n",
    "    \n",
    "    mod tata {\n",
    "        fn f2() { /*...*/ }\n",
    "    }\n",
    "}\n",
    "\n",
    "mod titi {\n",
    "    fn f3() { /*...*/ }\n",
    "}"
   ]
  },
  {
   "cell_type": "markdown",
   "metadata": {
    "slideshow": {
     "slide_type": "subslide"
    }
   },
   "source": [
    "```rust\n",
    "////// main.rs               ////// toto.rs\n",
    "fn main() { /*..*/ }         fn f1() { /*...*/ }\n",
    "mod toto;                    mod tata;\n",
    "mod titi;\n",
    "\n",
    "//// titi.rs                 ///// toto/tata.rs\n",
    "fn f3() { /*...*/ }          fn f2() { /*...*/ }\n",
    "```"
   ]
  },
  {
   "cell_type": "markdown",
   "metadata": {
    "slideshow": {
     "slide_type": "subslide"
    }
   },
   "source": [
    "### Visibilité\n",
    "\n",
    "Les éléments suivants :\n",
    "\n",
    "* fonction ou méthode,\n",
    "* type `struct` ou `enum`,\n",
    "* champ d'un `struct`,\n",
    "* module,\n",
    "\n",
    "ne sont visibles par défaut que depuis le module qui les définit (et ses sous-modules).\n",
    "\n",
    "Pour qu'ils puissent être visibles de l'exérieur,\n",
    "il faut les faire précéder du mot-clé `pub` (public)."
   ]
  },
  {
   "cell_type": "code",
   "execution_count": 17,
   "metadata": {
    "slideshow": {
     "slide_type": "subslide"
    }
   },
   "outputs": [],
   "source": [
    "pub mod tata {\n",
    "    pub fn fn1(x: f64) -> f64 { x*fn2(x) }\n",
    "    fn fn2(x: f64) -> f64 { if x<0.0 { -x } else { x } }\n",
    "    \n",
    "    pub struct Tata {\n",
    "        pub c1: f64,\n",
    "        c2: f64,\n",
    "    }\n",
    "    impl Tata {\n",
    "        pub fn new(c1: f64, c2: f64) -> Tata { Tata{ c1, c2, } }\n",
    "        pub fn prod(&self) -> f64 { self.c1*self.c2 }\n",
    "    }\n",
    "}"
   ]
  },
  {
   "cell_type": "code",
   "execution_count": 18,
   "metadata": {},
   "outputs": [
    {
     "data": {
      "text/plain": [
       "-16.0"
      ]
     },
     "execution_count": 18,
     "metadata": {},
     "output_type": "execute_result"
    }
   ],
   "source": [
    "let t = tata::Tata::new(-2.0, 1.0);\n",
    "tata::fn1(t.c1 + t.prod())"
   ]
  },
  {
   "cell_type": "code",
   "execution_count": 19,
   "metadata": {
    "slideshow": {
     "slide_type": "subslide"
    }
   },
   "outputs": [
    {
     "data": {
      "text/plain": [
       "6.25"
      ]
     },
     "execution_count": 19,
     "metadata": {},
     "output_type": "execute_result"
    }
   ],
   "source": [
    "use tata::fn1;\n",
    "fn1(2.5)"
   ]
  },
  {
   "cell_type": "code",
   "execution_count": 20,
   "metadata": {},
   "outputs": [
    {
     "data": {
      "text/plain": [
       "-4.0"
      ]
     },
     "execution_count": 20,
     "metadata": {},
     "output_type": "execute_result"
    }
   ],
   "source": [
    "use tata::*;\n",
    "let t = Tata::new(-2.0, 1.0);\n",
    "fn1(t.c1)"
   ]
  }
 ],
 "metadata": {
  "kernelspec": {
   "display_name": "Rust",
   "language": "rust",
   "name": "rust"
  },
  "language_info": {
   "codemirror_mode": "rust",
   "file_extension": ".rs",
   "mimetype": "text/rust",
   "name": "Rust",
   "pygment_lexer": "rust",
   "version": ""
  }
 },
 "nbformat": 4,
 "nbformat_minor": 4
}
