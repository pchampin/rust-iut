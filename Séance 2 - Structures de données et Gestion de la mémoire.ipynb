{
 "cells": [
  {
   "cell_type": "markdown",
   "metadata": {
    "slideshow": {
     "slide_type": "slide"
    }
   },
   "source": [
    "Introduction à Rust\n",
    "\n",
    "# Séance 2 – Structures de données et Gestion de la mémoire\n",
    "\n",
    "[Pierre-Antoine Champin](http://champin.net/)\n",
    "\n",
    "Département Info Doua – [IUT Lyon 1](http://iut.univ-lyon1.fr/)"
   ]
  },
  {
   "cell_type": "markdown",
   "metadata": {
    "slideshow": {
     "slide_type": "slide"
    }
   },
   "source": [
    "## Gestionnaire de projet `cargo`\n",
    "\n",
    "L'outil `cargo` est un outil central pour le développement rust.\n",
    "\n",
    "Il sert notamment à :\n",
    "\n",
    "* créer un nouveau projet (`cargo new <dirname>`)\n",
    "* compiler un projet (`cargo build`)\n",
    "* exécuter un projet (`cargo run`) – en le compilant préalablement si nécessaire\n",
    "* exécuter les tests unitaires (`cargo test`)\n",
    "* générer la documentation (`cargo doc`)"
   ]
  },
  {
   "cell_type": "markdown",
   "metadata": {
    "slideshow": {
     "slide_type": "subslide"
    }
   },
   "source": [
    "### Anatomie d'un projet créé par cargo\n",
    "\n",
    "```\n",
    "myproject\n",
    " \\_ .git\n",
    " \\_ .gitignore\n",
    " \\_ Cargo.toml\n",
    " \\_ src\n",
    "     \\_ main.rs\n",
    "```"
   ]
  },
  {
   "cell_type": "markdown",
   "metadata": {
    "slideshow": {
     "slide_type": "subslide"
    }
   },
   "source": [
    "Le fichier `Cargo.toml`:\n",
    "\n",
    "```toml\n",
    "[package]\n",
    "name = \"myproject\"\n",
    "version = \"0.1.0\"\n",
    "authors = [\"Pierre-Antoine Champin <pierre-antoine.champin@univ-lyon1.fr>\"]\n",
    "edition = \"2018\"\n",
    "\n",
    "# See more keys and their definitions at https://doc.rust-lang.org/cargo/reference/manifest.html\n",
    "\n",
    "[dependencies]\n",
    "```"
   ]
  },
  {
   "cell_type": "markdown",
   "metadata": {
    "slideshow": {
     "slide_type": "slide"
    }
   },
   "source": [
    "## Tableaux et chaînes"
   ]
  },
  {
   "cell_type": "markdown",
   "metadata": {
    "slideshow": {
     "slide_type": "subslide"
    }
   },
   "source": [
    "### Tranches (*slices*)"
   ]
  },
  {
   "cell_type": "code",
   "execution_count": 2,
   "metadata": {},
   "outputs": [
    {
     "data": {
      "text/plain": [
       "3"
      ]
     },
     "execution_count": 2,
     "metadata": {},
     "output_type": "execute_result"
    }
   ],
   "source": [
    "let mut a = [\"foo\", \"bar\", \"baz\"];\n",
    "a.len()"
   ]
  },
  {
   "cell_type": "code",
   "execution_count": 3,
   "metadata": {},
   "outputs": [
    {
     "data": {
      "text/plain": [
       "\"baz\""
      ]
     },
     "execution_count": 3,
     "metadata": {},
     "output_type": "execute_result"
    }
   ],
   "source": [
    "a[2]"
   ]
  },
  {
   "cell_type": "code",
   "execution_count": 4,
   "metadata": {},
   "outputs": [
    {
     "data": {
      "text/plain": [
       "[\"foo\", \"bar\", \"BAZ\"]"
      ]
     },
     "execution_count": 4,
     "metadata": {},
     "output_type": "execute_result"
    }
   ],
   "source": [
    "a[2] = \"BAZ\";\n",
    "a"
   ]
  },
  {
   "cell_type": "code",
   "execution_count": 5,
   "metadata": {},
   "outputs": [
    {
     "data": {
      "text/plain": [
       "[\"foo\", \"bar\"]"
      ]
     },
     "execution_count": 5,
     "metadata": {},
     "output_type": "execute_result"
    }
   ],
   "source": [
    "&a[..2]"
   ]
  },
  {
   "cell_type": "code",
   "execution_count": 6,
   "metadata": {},
   "outputs": [
    {
     "data": {
      "text/plain": [
       "true"
      ]
     },
     "execution_count": 6,
     "metadata": {},
     "output_type": "execute_result"
    }
   ],
   "source": [
    "a.contains(&\"BAZ\")"
   ]
  },
  {
   "cell_type": "code",
   "execution_count": 7,
   "metadata": {
    "slideshow": {
     "slide_type": "subslide"
    }
   },
   "outputs": [
    {
     "data": {
      "text/plain": [
       "[\"BAZ\", \"bar\", \"foo\"]"
      ]
     },
     "execution_count": 7,
     "metadata": {},
     "output_type": "execute_result"
    }
   ],
   "source": [
    "a.sort();\n",
    "a"
   ]
  },
  {
   "cell_type": "code",
   "execution_count": 8,
   "metadata": {},
   "outputs": [
    {
     "data": {
      "text/plain": [
       "1000"
      ]
     },
     "execution_count": 8,
     "metadata": {},
     "output_type": "execute_result"
    }
   ],
   "source": [
    "// Autre possiblité pour créer une slice\n",
    "let b = [0; 1000];\n",
    "b.len()"
   ]
  },
  {
   "cell_type": "markdown",
   "metadata": {},
   "source": [
    "Documentation complète : https://doc.rust-lang.org/std/primitive.slice.html"
   ]
  },
  {
   "cell_type": "markdown",
   "metadata": {
    "slideshow": {
     "slide_type": "subslide"
    }
   },
   "source": [
    "### Vecteur `Vec<T>`\n",
    "\n",
    "Un vecteur est un tableau de taille variable.\n",
    "\n",
    "Ce concept est implémenté par le type générique `Vec<T>` (où `T` est le type des éléments du vecteur)."
   ]
  },
  {
   "cell_type": "code",
   "execution_count": 9,
   "metadata": {},
   "outputs": [
    {
     "data": {
      "text/plain": [
       "[3.14, 10.1, -1.0]"
      ]
     },
     "execution_count": 9,
     "metadata": {},
     "output_type": "execute_result"
    }
   ],
   "source": [
    "// création d'un vecteur vide\n",
    "let mut v = Vec::new();\n",
    "\n",
    "// remplissage d'un vecteur\n",
    "v.push(3.14);\n",
    "v.push(101e-1);\n",
    "v.push(-1.0);\n",
    "v"
   ]
  },
  {
   "cell_type": "markdown",
   "metadata": {
    "slideshow": {
     "slide_type": "fragment"
    }
   },
   "source": [
    "NB: le compilateur infère `T` grâce aux éléments insérés lignes 5 à 7."
   ]
  },
  {
   "cell_type": "markdown",
   "metadata": {
    "slideshow": {
     "slide_type": "subslide"
    }
   },
   "source": [
    "La macro `vec!` permet de créer un vecteur plus simplement."
   ]
  },
  {
   "cell_type": "code",
   "execution_count": 10,
   "metadata": {},
   "outputs": [],
   "source": [
    "let v1 = vec![3.14, 101e-1, -1.0];\n",
    "let v2 = vec![0; 1000];"
   ]
  },
  {
   "cell_type": "markdown",
   "metadata": {
    "slideshow": {
     "slide_type": "subslide"
    }
   },
   "source": [
    "Les vecteurs peuvent être utilisés comme des tranches, ils « héritent » de leurs méthodes."
   ]
  },
  {
   "cell_type": "code",
   "execution_count": 11,
   "metadata": {},
   "outputs": [
    {
     "data": {
      "text/plain": [
       "3"
      ]
     },
     "execution_count": 11,
     "metadata": {},
     "output_type": "execute_result"
    }
   ],
   "source": [
    "let mut v = vec![\"foo\", \"bar\", \"baz\"];\n",
    "v.len()"
   ]
  },
  {
   "cell_type": "code",
   "execution_count": 12,
   "metadata": {},
   "outputs": [
    {
     "data": {
      "text/plain": [
       "\"baz\""
      ]
     },
     "execution_count": 12,
     "metadata": {},
     "output_type": "execute_result"
    }
   ],
   "source": [
    "v[2]"
   ]
  },
  {
   "cell_type": "code",
   "execution_count": 13,
   "metadata": {},
   "outputs": [
    {
     "data": {
      "text/plain": [
       "[\"foo\", \"bar\", \"BAZ\"]"
      ]
     },
     "execution_count": 13,
     "metadata": {},
     "output_type": "execute_result"
    }
   ],
   "source": [
    "v[2] = \"BAZ\";\n",
    "v"
   ]
  },
  {
   "cell_type": "code",
   "execution_count": 14,
   "metadata": {},
   "outputs": [
    {
     "data": {
      "text/plain": [
       "[\"foo\", \"bar\"]"
      ]
     },
     "execution_count": 14,
     "metadata": {},
     "output_type": "execute_result"
    }
   ],
   "source": [
    "&v[..2]  // ⚠ ceci est une tranche, PAS un vecteur"
   ]
  },
  {
   "cell_type": "code",
   "execution_count": 15,
   "metadata": {},
   "outputs": [
    {
     "data": {
      "text/plain": [
       "[\"BAZ\", \"bar\", \"foo\"]"
      ]
     },
     "execution_count": 15,
     "metadata": {},
     "output_type": "execute_result"
    }
   ],
   "source": [
    "v.sort();\n",
    "v"
   ]
  },
  {
   "cell_type": "markdown",
   "metadata": {
    "slideshow": {
     "slide_type": "subslide"
    }
   },
   "source": [
    "Méthodes spécifiques des vecteurs"
   ]
  },
  {
   "cell_type": "code",
   "execution_count": 16,
   "metadata": {},
   "outputs": [
    {
     "data": {
      "text/plain": [
       "[\"BAZ\", \"bar\", \"foo\", \"A\"]"
      ]
     },
     "execution_count": 16,
     "metadata": {},
     "output_type": "execute_result"
    }
   ],
   "source": [
    "// ajoute un élément à la fin du vecteur\n",
    "v.push(\"A\");\n",
    "v"
   ]
  },
  {
   "cell_type": "code",
   "execution_count": 17,
   "metadata": {},
   "outputs": [
    {
     "data": {
      "text/plain": [
       "[\"BAZ\", \"bar\", \"foo\"]"
      ]
     },
     "execution_count": 17,
     "metadata": {},
     "output_type": "execute_result"
    }
   ],
   "source": [
    "// supprime le dernier élément du vecteur\n",
    "v.pop();\n",
    "v"
   ]
  },
  {
   "cell_type": "code",
   "execution_count": 18,
   "metadata": {
    "slideshow": {
     "slide_type": "subslide"
    }
   },
   "outputs": [
    {
     "data": {
      "text/plain": [
       "[\"BAZ\", \"X\", \"bar\", \"foo\"]"
      ]
     },
     "execution_count": 18,
     "metadata": {},
     "output_type": "execute_result"
    }
   ],
   "source": [
    "// insère un élément à une position donnée\n",
    "// en décalant vers la droite les éléments suivants\n",
    "v.insert(1, \"X\");\n",
    "v"
   ]
  },
  {
   "cell_type": "code",
   "execution_count": 19,
   "metadata": {},
   "outputs": [
    {
     "name": "stdout",
     "output_type": "stream",
     "text": [
      "\"X\"\n"
     ]
    },
    {
     "data": {
      "text/plain": [
       "[\"BAZ\", \"bar\", \"foo\"]"
      ]
     },
     "execution_count": 19,
     "metadata": {},
     "output_type": "execute_result"
    }
   ],
   "source": [
    "// retire un élément à une position donnée\n",
    "// en décalant vers la gauche les éléments suivants\n",
    "let e = v.remove(1);\n",
    "println!(\"{:?}\", e);\n",
    "v"
   ]
  },
  {
   "cell_type": "code",
   "execution_count": 20,
   "metadata": {
    "slideshow": {
     "slide_type": "-"
    }
   },
   "outputs": [
    {
     "data": {
      "text/plain": [
       "[]"
      ]
     },
     "execution_count": 20,
     "metadata": {},
     "output_type": "execute_result"
    }
   ],
   "source": [
    "// vide le vecteur\n",
    "v.clear();\n",
    "v"
   ]
  },
  {
   "cell_type": "markdown",
   "metadata": {},
   "source": [
    "Documentation complète : https://doc.rust-lang.org/std/vec/struct.Vec.html"
   ]
  },
  {
   "cell_type": "markdown",
   "metadata": {
    "slideshow": {
     "slide_type": "subslide"
    }
   },
   "source": [
    "### Chaîne de caractères `str`\n",
    "\n",
    "Une `str` est une chaîne de caractères de longueur fixe.\n",
    "\n",
    "C'est le type des chaînes littérales, comme par exemple `\"hello world\"`.\n",
    "Il supporte l'ensemble des  caractères [Unicode](https://fr.wikipedia.org/wiki/Unicode)."
   ]
  },
  {
   "cell_type": "markdown",
   "metadata": {
    "slideshow": {
     "slide_type": "subslide"
    }
   },
   "source": [
    "⚠ `str` n'est **pas** équivalent à `[char]`.\n",
    "Il utilise en interne le codage [UTF-8](https://fr.wikipedia.org/wiki/UTF-8),\n",
    "qui a la particularité de coder les caractère sur différents nombres d'octets. Par exemple :\n",
    "\n",
    "* `'a'` est codé sur 1 octet\n",
    "* `'à'` est codé sur 2 octets\n",
    "* `'☃'` est codé sur 3 octets"
   ]
  },
  {
   "cell_type": "markdown",
   "metadata": {
    "slideshow": {
     "slide_type": "fragment"
    }
   },
   "source": [
    "Par conséquent, `str` ne permet pas d'accéder directement à un caractère :"
   ]
  },
  {
   "cell_type": "code",
   "execution_count": 21,
   "metadata": {},
   "outputs": [],
   "source": [
    "let txt = \"hello world\";\n",
    "//let c = txt[1]; // NE COMPILE PAS"
   ]
  },
  {
   "cell_type": "markdown",
   "metadata": {
    "slideshow": {
     "slide_type": "subslide"
    }
   },
   "source": [
    "La méthode `len` de `str` retourne le nombre d'**octets**."
   ]
  },
  {
   "cell_type": "code",
   "execution_count": 22,
   "metadata": {},
   "outputs": [
    {
     "data": {
      "text/plain": [
       "11"
      ]
     },
     "execution_count": 22,
     "metadata": {},
     "output_type": "execute_result"
    }
   ],
   "source": [
    "\"hello world\".len()"
   ]
  },
  {
   "cell_type": "code",
   "execution_count": 23,
   "metadata": {},
   "outputs": [
    {
     "data": {
      "text/plain": [
       "6"
      ]
     },
     "execution_count": 23,
     "metadata": {},
     "output_type": "execute_result"
    }
   ],
   "source": [
    "\"☃❄\".len()"
   ]
  },
  {
   "cell_type": "markdown",
   "metadata": {
    "slideshow": {
     "slide_type": "subslide"
    }
   },
   "source": [
    "La méthode `chars` retourne un itérateur de `char`."
   ]
  },
  {
   "cell_type": "code",
   "execution_count": 24,
   "metadata": {},
   "outputs": [
    {
     "name": "stdout",
     "output_type": "stream",
     "text": [
      "'☃'\n",
      "'❄'\n"
     ]
    }
   ],
   "source": [
    "for c in \"☃❄\".chars() {\n",
    "    println!(\"{:?}\", c)\n",
    "};"
   ]
  },
  {
   "cell_type": "markdown",
   "metadata": {},
   "source": [
    "Les méthodes de cet itérateur permettent notamment de calculer le nombre de caractères, ou de construire un `Vec<char>`."
   ]
  },
  {
   "cell_type": "code",
   "execution_count": 25,
   "metadata": {},
   "outputs": [
    {
     "data": {
      "text/plain": [
       "2"
      ]
     },
     "execution_count": 25,
     "metadata": {},
     "output_type": "execute_result"
    }
   ],
   "source": [
    "\"☃❄\".chars().count()"
   ]
  },
  {
   "cell_type": "code",
   "execution_count": 26,
   "metadata": {},
   "outputs": [
    {
     "data": {
      "text/plain": [
       "'❄'"
      ]
     },
     "execution_count": 26,
     "metadata": {},
     "output_type": "execute_result"
    }
   ],
   "source": [
    "let v: Vec<char> = \"☃❄\".chars().collect();\n",
    "v[1]"
   ]
  },
  {
   "cell_type": "markdown",
   "metadata": {
    "slideshow": {
     "slide_type": "subslide"
    }
   },
   "source": [
    "Le type `str` possède de nombreuses méthodes de manipulation de chaînes :\n",
    "\n",
    "* `contains` indique si la chaîne contient une sous-chaîne,\n",
    "* `trim` retourne une sous-chaîne en supprimant les espaces au début et à la fin,\n",
    "* `split` retourne un itérateur de sous-chaînes, délimitées par un séparateur donné,\n",
    "* `replace` retourne une nouvelle chaîne en remplaçant les occurences d'une sous-chaîne par un texte donné,\n",
    "* `make_ascii_uppercase`, `make_ascii_lowercase` modifie la chaîne en changeant la casse des caractères ASCII,\n",
    "* ...\n",
    "\n",
    "Documentation complète : https://doc.rust-lang.org/std/primitive.str.html"
   ]
  },
  {
   "cell_type": "markdown",
   "metadata": {
    "slideshow": {
     "slide_type": "subslide"
    }
   },
   "source": [
    "### Chaîne mutable `String`\n",
    "\n",
    "Une `String` est une chaîne de caractères de taille variable."
   ]
  },
  {
   "cell_type": "code",
   "execution_count": 27,
   "metadata": {},
   "outputs": [
    {
     "data": {
      "text/plain": [
       "\"Hello world\""
      ]
     },
     "execution_count": 27,
     "metadata": {},
     "output_type": "execute_result"
    }
   ],
   "source": [
    "// création d'une String vide\n",
    "let mut s = String::new();\n",
    "\n",
    "// remplissage d'une String\n",
    "s.push('H');\n",
    "s.push_str(\"ello\");\n",
    "s.push_str(\" world\");\n",
    "s"
   ]
  },
  {
   "cell_type": "code",
   "execution_count": 28,
   "metadata": {},
   "outputs": [
    {
     "data": {
      "text/plain": [
       "\"Hello world\""
      ]
     },
     "execution_count": 28,
     "metadata": {},
     "output_type": "execute_result"
    }
   ],
   "source": [
    "// création d'une String à partir d'une str\n",
    "let s = \"Hello world\".to_string();\n",
    "s"
   ]
  },
  {
   "cell_type": "markdown",
   "metadata": {
    "slideshow": {
     "slide_type": "subslide"
    }
   },
   "source": [
    "Les `String` peuvent être utilisées comme des `str`, elles « héritent » de leurs méthodes."
   ]
  },
  {
   "cell_type": "code",
   "execution_count": 29,
   "metadata": {},
   "outputs": [
    {
     "data": {
      "text/plain": [
       "true"
      ]
     },
     "execution_count": 29,
     "metadata": {},
     "output_type": "execute_result"
    }
   ],
   "source": [
    "let s = \"Winter is coming ❄\".to_string();\n",
    "s.contains(\"coming\")"
   ]
  },
  {
   "cell_type": "code",
   "execution_count": 30,
   "metadata": {},
   "outputs": [
    {
     "data": {
      "text/plain": [
       "20"
      ]
     },
     "execution_count": 30,
     "metadata": {},
     "output_type": "execute_result"
    }
   ],
   "source": [
    "s.len() // Attention, il s'agit toujours du nombre d'OCTETS"
   ]
  },
  {
   "cell_type": "markdown",
   "metadata": {},
   "source": [
    "Documentation complète : https://doc.rust-lang.org/std/string/struct.String.html"
   ]
  },
  {
   "cell_type": "markdown",
   "metadata": {
    "slideshow": {
     "slide_type": "slide"
    }
   },
   "source": [
    "## Types complexes `struct`"
   ]
  },
  {
   "cell_type": "markdown",
   "metadata": {
    "slideshow": {
     "slide_type": "subslide"
    }
   },
   "source": [
    "### Déclaration d'un type struturé"
   ]
  },
  {
   "cell_type": "code",
   "execution_count": 31,
   "metadata": {},
   "outputs": [],
   "source": [
    "// similaire aux `struct` du C\n",
    "\n",
    "struct Person {\n",
    "    given_name: String,\n",
    "    family_name: String,\n",
    "    age: u8,\n",
    "}\n",
    "\n",
    "struct Color {\n",
    "    r: u8,\n",
    "    g: u8,\n",
    "    b: u8,\n",
    "}"
   ]
  },
  {
   "cell_type": "markdown",
   "metadata": {
    "slideshow": {
     "slide_type": "subslide"
    }
   },
   "source": [
    "### Initialisation d'une valeur structurée"
   ]
  },
  {
   "cell_type": "code",
   "execution_count": 32,
   "metadata": {},
   "outputs": [],
   "source": [
    "let black = Color { r: 0, g: 0, b: 0};\n",
    "\n",
    "// si la valeur d'un champ est une variable du même nom,\n",
    "// inutile de répéter le nom\n",
    "\n",
    "let (r, g, b) = (50, 100, 150);\n",
    "let mut mycolor = Color { r, g, b };"
   ]
  },
  {
   "cell_type": "markdown",
   "metadata": {
    "slideshow": {
     "slide_type": "subslide"
    }
   },
   "source": [
    "### Accès aux champs"
   ]
  },
  {
   "cell_type": "code",
   "execution_count": 33,
   "metadata": {},
   "outputs": [
    {
     "name": "stdout",
     "output_type": "stream",
     "text": [
      "150\n"
     ]
    }
   ],
   "source": [
    "println!(\"{}\", mycolor.b);\n",
    "mycolor.r = 200;"
   ]
  },
  {
   "cell_type": "markdown",
   "metadata": {
    "slideshow": {
     "slide_type": "subslide"
    }
   },
   "source": [
    "### Type structuré générique"
   ]
  },
  {
   "cell_type": "code",
   "execution_count": 34,
   "metadata": {},
   "outputs": [],
   "source": [
    "struct GColor<T> {\n",
    "    r: T,\n",
    "    g: T,\n",
    "    b: T,\n",
    "}\n",
    "\n",
    "let gray: GColor<f64> = GColor { r: 0.5, g: 0.5, b: 0.5};"
   ]
  },
  {
   "cell_type": "markdown",
   "metadata": {
    "slideshow": {
     "slide_type": "subslide"
    }
   },
   "source": [
    "NB: `String` et `Vec<T>` sont définis comme des `struct`s.\n",
    "\n",
    "On verra lors d'une prochaine séance comment munir nos `struct`s de *méthodes*,\n",
    "comme c'est le cas pour `String` et `Vec<T>`.\n",
    "\n",
    "Notez cependant que les `struct` ne sont *pas* des classes au sens de la programmation OO.\n",
    "En particulier, un type `struct` ne *peut pas* hériter d'un autre."
   ]
  },
  {
   "cell_type": "markdown",
   "metadata": {
    "slideshow": {
     "slide_type": "slide"
    }
   },
   "source": [
    "## Gestion de la mémoire 🦀🦀"
   ]
  },
  {
   "cell_type": "markdown",
   "metadata": {
    "slideshow": {
     "slide_type": "subslide"
    }
   },
   "source": [
    "### Rappel : la pile et le tas\n",
    "\n",
    "La pile\n",
    "\n",
    "- contient les données des variables,\n",
    "- de taille connue à la compilation (statique),\n",
    "- gérées de manière *Last in, first out* par le compilateur (quel que soit le langage)\n",
    "    \n",
    "Le tas\n",
    "\n",
    "- contient des données de taille connue à l'exécution (dynamique),\n",
    "- gérées différemment selon les langages."
   ]
  },
  {
   "cell_type": "markdown",
   "metadata": {
    "slideshow": {
     "slide_type": "subslide"
    }
   },
   "source": [
    "#### Gestion du tas\n",
    "\n",
    "En C\n",
    "- le développeur a la responsabilité de libérer la mémoire,\n",
    "- ce qui peut donner lieu à des erreurs (mémoire libérée trop tôt, trop tard, jamais...).\n",
    "\n",
    "En Java\n",
    "- le ramasse-miettes (*garbage collector*) se charge de libérer la mémoire à l'exécution,\n",
    "- ce qui peut entraîner des problèmes de performances."
   ]
  },
  {
   "cell_type": "markdown",
   "metadata": {
    "slideshow": {
     "slide_type": "subslide"
    }
   },
   "source": [
    "#### Gestion du tas en Rust\n",
    "\n",
    "En Rust\n",
    "- le **compilateur** se charge de libérer la mémoire.\n",
    "- Cela suppose de lui fournir assez d'information pour qu'il le fasse,\n",
    "- d'où les concepts spécifiques de **propriété** et d'**emprunt**. 🦀🦀"
   ]
  },
  {
   "cell_type": "markdown",
   "metadata": {
    "slideshow": {
     "slide_type": "subslide"
    }
   },
   "source": [
    "### Illustration : le type `String`"
   ]
  },
  {
   "cell_type": "code",
   "execution_count": 35,
   "metadata": {
    "slideshow": {
     "slide_type": "-"
    }
   },
   "outputs": [],
   "source": [
    "let s1 = \"hello\".to_string();"
   ]
  },
  {
   "cell_type": "markdown",
   "metadata": {},
   "source": [
    "<div style=\"text-align: center\">\n",
    "<img alt=\"String en mémoire\" src=\"images/trpl04-01.svg\" style=\"display: inline; width: 12em;\">\n",
    "</div>"
   ]
  },
  {
   "cell_type": "code",
   "execution_count": 36,
   "metadata": {
    "slideshow": {
     "slide_type": "subslide"
    }
   },
   "outputs": [],
   "source": [
    "let s1 = \"hello\".to_string();\n",
    "let s2 = s1;\n",
    "// Quelles est la structure en mémore de s1 et s2 ?"
   ]
  },
  {
   "cell_type": "markdown",
   "metadata": {},
   "source": [
    "<div style=\"text-align: center\"> <img alt=\"Shallow copy\" src=\"images/trpl04-02.svg\" style=\"display: inline; width: 12em;\"> &nbsp;&nbsp;&nbsp;/&nbsp;&nbsp;&nbsp; <img alt=\"Deep copy\" src=\"images/trpl04-03.svg\" style=\"display: inline; width: 12em;\"> ? </div>"
   ]
  },
  {
   "cell_type": "code",
   "execution_count": 37,
   "metadata": {
    "slideshow": {
     "slide_type": "subslide"
    }
   },
   "outputs": [
    {
     "name": "stdout",
     "output_type": "stream",
     "text": [
      "\"hello\" \"hello\"\n"
     ]
    }
   ],
   "source": [
    "// copie profonde EXPLICITE avec la méthode clone\n",
    "let mut s1 = \"hello\".to_string();\n",
    "let s2 = s1.clone();\n",
    "println!(\"{:?} {:?}\", s1, s2);"
   ]
  },
  {
   "cell_type": "markdown",
   "metadata": {},
   "source": [
    "<div style=\"text-align: center\">\n",
    "<img alt=\"Copie profonde\" src=\"images/trpl04-03.svg\" style=\"display: inline; width: 12em;\">\n",
    "</div>"
   ]
  },
  {
   "cell_type": "code",
   "execution_count": 38,
   "metadata": {
    "slideshow": {
     "slide_type": "subslide"
    }
   },
   "outputs": [],
   "source": [
    "let s1 = \"hello\".to_string();\n",
    "let s2 = s1;\n",
    "//println!(\"{}\", s1); // NE COMPILE PAS"
   ]
  },
  {
   "cell_type": "markdown",
   "metadata": {},
   "source": [
    "<div style=\"text-align: center\">\n",
    "<img alt=\"String en mémoire\" src=\"images/trpl04-04.svg\" style=\"display: inline; width: 12em;\">\n",
    "</div>"
   ]
  },
  {
   "cell_type": "markdown",
   "metadata": {
    "slideshow": {
     "slide_type": "subslide"
    }
   },
   "source": [
    "### Propriété 🦀🦀\n",
    "\n",
    "* Toute donnée est la **propriété** d'exactement une variable (ou champ de structure).\n",
    "\n",
    "* Conceptuellement, l'affectation d'une variable à une autre **déplace** (*move*) les données,\n",
    "  et transfère la propriété à la nouvelle variable.\n",
    "  \n",
    "* Lorsqu'une variable est supprimée, si elle est encore propriétaire de ses données,\n",
    "  celles-ci sont **libérées**."
   ]
  },
  {
   "cell_type": "code",
   "execution_count": 39,
   "metadata": {
    "slideshow": {
     "slide_type": "subslide"
    }
   },
   "outputs": [
    {
     "name": "stdout",
     "output_type": "stream",
     "text": [
      "Le message contient 15 octets\n"
     ]
    }
   ],
   "source": [
    "fn produit(nom: &str) -> String {\n",
    "    let mut msg = \"Bonjour \".to_string(); // 1. La chaîne est allouée ici\n",
    "    msg.push_str(nom);\n",
    "    msg                                   // 2. La chaîne est transférée au code appelant\n",
    "}\n",
    "\n",
    "fn consomme(s: String) {\n",
    "    println!(\"Le message contient {} octets\", s.len());\n",
    "}                                         // 5. La variable 's' arrive au bout de son scope,\n",
    "                                          //    et elle possède toujours la chaîne,\n",
    "                                          //qui est donc libérée.\n",
    "\n",
    "\n",
    "{ \n",
    "    let mut txt = produit(\"Alice\");       // 3. La chaîne est récupérée depuis la fonc. produit\n",
    "    txt.push_str(\" !\");\n",
    "    consomme(txt);                        // 4. La chaîne est transférée à la fonc. consomme\n",
    "    //txt.len() // NE COMPILE PAS\n",
    "};"
   ]
  },
  {
   "cell_type": "markdown",
   "metadata": {
    "slideshow": {
     "slide_type": "subslide"
    }
   },
   "source": [
    "#### Cas particulier des types atomiques\n",
    "\n",
    "Les types de base (entiers, flottants, booléens, caractères)\n",
    "peuvent être copiés implicitement,\n",
    "car le compilateur sait que cette copie est sûre (*safe*) et rapide."
   ]
  },
  {
   "cell_type": "code",
   "execution_count": 40,
   "metadata": {},
   "outputs": [
    {
     "name": "stdout",
     "output_type": "stream",
     "text": [
      "42 42\n"
     ]
    }
   ],
   "source": [
    "let x = 42;\n",
    "let y = x; // copy instead of move\n",
    "println!(\"{} {}\", x, y);"
   ]
  },
  {
   "cell_type": "markdown",
   "metadata": {},
   "source": [
    "NB: il est possible d'étendre ce comportement à d'autres types (e.g. le type `Color` défini plus haut)."
   ]
  },
  {
   "cell_type": "markdown",
   "metadata": {
    "slideshow": {
     "slide_type": "subslide"
    }
   },
   "source": [
    "### Emprunts (*borrow*) 🦀🦀"
   ]
  },
  {
   "cell_type": "code",
   "execution_count": 41,
   "metadata": {},
   "outputs": [
    {
     "name": "stdout",
     "output_type": "stream",
     "text": [
      "hello hello\n",
      "hello\n"
     ]
    },
    {
     "data": {
      "text/plain": [
       "()"
      ]
     },
     "execution_count": 41,
     "metadata": {},
     "output_type": "execute_result"
    }
   ],
   "source": [
    "let s1 = \"hello\".to_string();\n",
    "{\n",
    "    let s: &String = &s1;\n",
    "    println!(\"{} {}\", s1, s);\n",
    "}\n",
    "println!(\"{}\", s1);"
   ]
  },
  {
   "cell_type": "markdown",
   "metadata": {},
   "source": [
    "<div style=\"text-align: center\">\n",
    "<img alt=\"String en mémoire\" src=\"images/trpl04-05.svg\" style=\"display: inline; width: 16em;\">\n",
    "</div>"
   ]
  },
  {
   "cell_type": "markdown",
   "metadata": {
    "slideshow": {
     "slide_type": "subslide"
    }
   },
   "source": [
    "Pour tout type `T`, les variables de type `&T` sont des **références** vers un `T`.\n",
    "\n",
    "* Physiquement, les références sont des pointeurs.\n",
    "* Conceptuellement, les références ne *possèdent pas* les données vers lesquelles elles pointent,\n",
    "* la disparition de la référence n'entraîne donc pas la libération des données.\n",
    "* En conséquence, plusieurs références vers les même données peuvent *co-exister*."
   ]
  },
  {
   "cell_type": "code",
   "execution_count": 42,
   "metadata": {},
   "outputs": [
    {
     "name": "stdout",
     "output_type": "stream",
     "text": [
      "hello hello hello\n",
      "hello\n"
     ]
    },
    {
     "data": {
      "text/plain": [
       "()"
      ]
     },
     "execution_count": 42,
     "metadata": {},
     "output_type": "execute_result"
    }
   ],
   "source": [
    "let s1 = \"hello\".to_string();\n",
    "{\n",
    "    let s2: &String = &s1;\n",
    "    let s3: &String = &s1;\n",
    "    println!(\"{} {} {}\", s1, s2, s3);\n",
    "}\n",
    "println!(\"{}\", s1);"
   ]
  },
  {
   "cell_type": "markdown",
   "metadata": {
    "slideshow": {
     "slide_type": "subslide"
    }
   },
   "source": [
    "NB : Les références de type `&T` sont immutables."
   ]
  },
  {
   "cell_type": "code",
   "execution_count": 43,
   "metadata": {},
   "outputs": [
    {
     "name": "stdout",
     "output_type": "stream",
     "text": [
      "hello!\n"
     ]
    },
    {
     "data": {
      "text/plain": [
       "()"
      ]
     },
     "execution_count": 43,
     "metadata": {},
     "output_type": "execute_result"
    }
   ],
   "source": [
    "let mut s1 = \"hello\".to_string();\n",
    "{\n",
    "    let s2: &String = &s1;\n",
    "    //s2.push('!'); // NE COMPILE PAS\n",
    "}\n",
    "s1.push('!');\n",
    "println!(\"{}\", s1);"
   ]
  },
  {
   "cell_type": "markdown",
   "metadata": {},
   "source": [
    "Pour que l'exemple ci-dessus fonctionne, il faut utiliser une **référence mutable**,\n",
    "de type `&mut T`."
   ]
  },
  {
   "cell_type": "code",
   "execution_count": 44,
   "metadata": {
    "slideshow": {
     "slide_type": "skip"
    }
   },
   "outputs": [
    {
     "name": "stdout",
     "output_type": "stream",
     "text": [
      "hello!!\n"
     ]
    },
    {
     "data": {
      "text/plain": [
       "()"
      ]
     },
     "execution_count": 44,
     "metadata": {},
     "output_type": "execute_result"
    }
   ],
   "source": [
    "let mut s1 = \"hello\".to_string();\n",
    "{\n",
    "    let s2 = &mut s1;\n",
    "    s2.push('!');\n",
    "}\n",
    "s1.push('!');\n",
    "println!(\"{}\", s1);"
   ]
  },
  {
   "cell_type": "markdown",
   "metadata": {
    "slideshow": {
     "slide_type": "subslide"
    }
   },
   "source": [
    "### Règles sur les références"
   ]
  },
  {
   "cell_type": "markdown",
   "metadata": {},
   "source": [
    "On ne peut pas avoir en même temps\n",
    "\n",
    "* plusieurs références mutables, ni\n",
    "* une référence mutable et une (ou plusieurs) référence(s) immutable(s).\n",
    "\n",
    "En effet, il faut éviter\n",
    "\n",
    "* que deux parties du code modifient les mêmes données simultanément, et\n",
    "* qu'une partie du code lise des données en cours de modification."
   ]
  },
  {
   "cell_type": "code",
   "execution_count": 45,
   "metadata": {
    "slideshow": {
     "slide_type": "subslide"
    }
   },
   "outputs": [
    {
     "name": "stdout",
     "output_type": "stream",
     "text": [
      "hello\n"
     ]
    },
    {
     "data": {
      "text/plain": [
       "()"
      ]
     },
     "execution_count": 45,
     "metadata": {},
     "output_type": "execute_result"
    }
   ],
   "source": [
    "let mut s1 = \"hello\".to_string();\n",
    "{\n",
    "    let s2 = &s1;\n",
    "    //s1.push('?'); // NE COMPILE PAS\n",
    "    println!(\"{}\", s2);\n",
    "}\n",
    "s1.push('!');"
   ]
  },
  {
   "cell_type": "code",
   "execution_count": 46,
   "metadata": {},
   "outputs": [
    {
     "data": {
      "text/plain": [
       "()"
      ]
     },
     "execution_count": 46,
     "metadata": {},
     "output_type": "execute_result"
    }
   ],
   "source": [
    "let mut s1 = \"hello\".to_string();\n",
    "{\n",
    "    let s2 = &mut s1;\n",
    "    /* NE COMPILE PAS\n",
    "    let s3 = &mut s1;\n",
    "    println!(\"{} {}\", s2, s3);\n",
    "    */\n",
    "    \n",
    "}\n",
    "s1.push('!');"
   ]
  },
  {
   "cell_type": "markdown",
   "metadata": {
    "slideshow": {
     "slide_type": "subslide"
    }
   },
   "source": [
    "### Choix des passages de paramètres des fonctions"
   ]
  },
  {
   "cell_type": "code",
   "execution_count": 47,
   "metadata": {},
   "outputs": [],
   "source": [
    "// ma fonction n'a pas besoin de modifier les données : &T\n",
    "fn compte_e(txt: &String) -> usize {\n",
    "    let mut c = 0;\n",
    "    for i in txt.chars() {\n",
    "        if i == 'e' {\n",
    "            c += 1;\n",
    "        }\n",
    "    }\n",
    "    c\n",
    "}"
   ]
  },
  {
   "cell_type": "code",
   "execution_count": 48,
   "metadata": {},
   "outputs": [],
   "source": [
    "// ma fonction a besoin de modifier les données : &mut T\n",
    "fn exclame(txt: &mut String) {\n",
    "    if !txt.ends_with(\"!\") {\n",
    "        txt.push('!')\n",
    "    }\n",
    "}"
   ]
  },
  {
   "cell_type": "code",
   "execution_count": 49,
   "metadata": {
    "slideshow": {
     "slide_type": "-"
    }
   },
   "outputs": [],
   "source": [
    "// ma fonction \"consomme\" les données (rare) / les données sont \"copiables\" : T\n",
    "fn fact(n: usize) -> usize {\n",
    "    if n <= 1 { 1 } else { n*fact(n-1) }\n",
    "}"
   ]
  },
  {
   "cell_type": "markdown",
   "metadata": {
    "slideshow": {
     "slide_type": "subslide"
    }
   },
   "source": [
    "### Différence conceptuelle entre pointeur et référence\n"
   ]
  },
  {
   "cell_type": "code",
   "execution_count": 50,
   "metadata": {},
   "outputs": [],
   "source": [
    "let a = 42;\n",
    "let b = 41 + 1;\n",
    "let test = &a == &42;"
   ]
  },
  {
   "cell_type": "code",
   "execution_count": 51,
   "metadata": {
    "slideshow": {
     "slide_type": "fragment"
    }
   },
   "outputs": [
    {
     "data": {
      "text/plain": [
       "true"
      ]
     },
     "execution_count": 51,
     "metadata": {},
     "output_type": "execute_result"
    }
   ],
   "source": [
    "test"
   ]
  },
  {
   "cell_type": "markdown",
   "metadata": {},
   "source": [
    "* la « valeur » d'une référence n'est **pas** l'adresse en mémoire, c'est la valeur pointée.\n",
    "\n",
    "    * Ne pas penser `&T` comme « un pointeur vers un `T` » mais comme « un `T` emprunté à quelqu'un d'autre ».\n",
    "    * `T` et `&T` restent malgré tout deux types différents...\n",
    "\n",
    "* En Rust, une référence n'est **jamais** un pointeur null. 🦀"
   ]
  },
  {
   "cell_type": "code",
   "execution_count": 52,
   "metadata": {},
   "outputs": [],
   "source": [
    "let a = 42;\n",
    "let b = 41 + 1;\n",
    "// let test = &a == b; // NE COMPILE PAS\n",
    "// let test = &a == 42; // NE COMPILE PAS\n",
    "let test = &a == &42; // on imagine bien que &42 n'est pas un pointeur\n",
    "{\n",
    "    let c = &a;\n",
    "    let test = *c == 42;  // on peut aussi l'écrire ainsi (* est l'opposé de &)\n",
    "};"
   ]
  },
  {
   "cell_type": "markdown",
   "metadata": {
    "slideshow": {
     "slide_type": "subslide"
    }
   },
   "source": [
    "### Durées de vie\n",
    "\n",
    "Un composant du compilateur (le *borrow checker*)\n",
    "vérifie qu'aucun emprunt ne dure plus longtemps que la durée de vie du propriétaire.\n",
    "\n",
    "(puisqu'à la « mort » du propriétaire, les données sont libérées)\n"
   ]
  },
  {
   "cell_type": "code",
   "execution_count": 53,
   "metadata": {},
   "outputs": [
    {
     "ename": "Error",
     "evalue": "`proprietaire` does not live long enough",
     "output_type": "error",
     "traceback": [
      "    emprunteur = &proprietaire;",
      "\u001b[91m                 ^^^^^^^^^^^^^\u001b[0m \u001b[94mborrowed value does not live long enough\u001b[0m",
      "}",
      "\u001b[91m^\u001b[0m \u001b[94m`proprietaire` dropped here while still borrowed\u001b[0m",
      "`proprietaire` does not live long enough"
     ]
    }
   ],
   "source": [
    "// NE COMPILE PAS\n",
    "let emprunteur;\n",
    "{\n",
    "    let proprietaire = \"hello\".to_string();\n",
    "    emprunteur = &proprietaire;\n",
    "}\n",
    "println!(\"{}\", emprunteur);"
   ]
  },
  {
   "cell_type": "markdown",
   "metadata": {
    "slideshow": {
     "slide_type": "subslide"
    }
   },
   "source": [
    "Dans certaines situations, le compilateur a besoin qu'on lui donne des indications sur les durées de vie respectives des différentes références (« qui doit vivre aussi longtemps que qui ? »).\n",
    "\n",
    "On utilise alors la syntaxe `&'a T` ou `&'a mut T`."
   ]
  },
  {
   "cell_type": "code",
   "execution_count": 54,
   "metadata": {},
   "outputs": [
    {
     "ename": "Error",
     "evalue": "missing lifetime specifier",
     "output_type": "error",
     "traceback": [
      "fn without_prefix(txt: &str, prefix: &str) -> &str {",
      "\u001b[91m                       ^^^^\u001b[0m \u001b[94m\u001b[0m",
      "fn without_prefix(txt: &str, prefix: &str) -> &str {",
      "\u001b[91m                                     ^^^^\u001b[0m \u001b[94m\u001b[0m",
      "fn without_prefix(txt: &str, prefix: &str) -> &str {",
      "\u001b[91m                                              ^\u001b[0m \u001b[94mexpected named lifetime parameter\u001b[0m",
      "missing lifetime specifier"
     ]
    }
   ],
   "source": [
    "// NE COMPILE PAS\n",
    "fn without_prefix(txt: &str, prefix: &str) -> &str {\n",
    "    if txt.starts_with(prefix) {\n",
    "        &txt[prefix.len()..]\n",
    "    } else {\n",
    "        txt\n",
    "    }\n",
    "}\n",
    "\n",
    "without_prefix(\"bonjour\", \"bon\")"
   ]
  },
  {
   "cell_type": "markdown",
   "metadata": {},
   "source": [
    "Mais dans ce module, nous ferons en sorte d'éviter ces situations."
   ]
  },
  {
   "cell_type": "code",
   "execution_count": 55,
   "metadata": {
    "slideshow": {
     "slide_type": "subslide"
    }
   },
   "outputs": [
    {
     "data": {
      "text/plain": [
       "\"jour\""
      ]
     },
     "execution_count": 55,
     "metadata": {},
     "output_type": "execute_result"
    }
   ],
   "source": [
    "fn without_prefix<'a>(txt: &'a str, prefix: &str) -> &'a str {\n",
    "//               ^^^^       ^^                        ^^\n",
    "    if txt.starts_with(prefix) {\n",
    "        &txt[prefix.len()..]\n",
    "    } else {\n",
    "        txt\n",
    "    }\n",
    "}\n",
    "\n",
    "without_prefix(\"bonjour\", \"bon\")"
   ]
  }
 ],
 "metadata": {
  "celltoolbar": "Slideshow",
  "kernelspec": {
   "display_name": "Rust",
   "language": "rust",
   "name": "rust"
  },
  "language_info": {
   "codemirror_mode": "rust",
   "file_extension": ".rs",
   "mimetype": "text/rust",
   "name": "Rust",
   "pygment_lexer": "rust",
   "version": ""
  }
 },
 "nbformat": 4,
 "nbformat_minor": 2
}
